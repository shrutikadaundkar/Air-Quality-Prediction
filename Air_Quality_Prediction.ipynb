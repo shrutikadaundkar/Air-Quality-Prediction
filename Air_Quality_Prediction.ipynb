{
 "cells": [
  {
   "cell_type": "markdown",
   "id": "0f9ae95e",
   "metadata": {},
   "source": [
    "## AIR QUALITY PREDICTION USING AQI INDEX"
   ]
  },
  {
   "cell_type": "code",
   "execution_count": 1,
   "id": "cec9ccf8",
   "metadata": {},
   "outputs": [
    {
     "name": "stderr",
     "output_type": "stream",
     "text": [
      "C:\\Users\\shrut\\anaconda3\\lib\\site-packages\\scipy\\__init__.py:146: UserWarning: A NumPy version >=1.16.5 and <1.23.0 is required for this version of SciPy (detected version 1.26.0\n",
      "  warnings.warn(f\"A NumPy version >={np_minversion} and <{np_maxversion}\"\n"
     ]
    },
    {
     "ename": "SystemError",
     "evalue": "initialization of _internal failed without raising an exception",
     "output_type": "error",
     "traceback": [
      "\u001b[1;31m---------------------------------------------------------------------------\u001b[0m",
      "\u001b[1;31mSystemError\u001b[0m                               Traceback (most recent call last)",
      "\u001b[1;32m~\\AppData\\Local\\Temp/ipykernel_612/2035754948.py\u001b[0m in \u001b[0;36m<module>\u001b[1;34m\u001b[0m\n\u001b[0;32m     22\u001b[0m \u001b[1;32mfrom\u001b[0m \u001b[0msklearn\u001b[0m\u001b[1;33m.\u001b[0m\u001b[0mmetrics\u001b[0m \u001b[1;32mimport\u001b[0m \u001b[0mmean_absolute_error\u001b[0m\u001b[1;33m,\u001b[0m \u001b[0mmean_squared_error\u001b[0m\u001b[1;33m,\u001b[0m \u001b[0mr2_score\u001b[0m\u001b[1;33m\u001b[0m\u001b[1;33m\u001b[0m\u001b[0m\n\u001b[0;32m     23\u001b[0m \u001b[1;32mfrom\u001b[0m \u001b[0msklearn\u001b[0m\u001b[1;33m.\u001b[0m\u001b[0mneighbors\u001b[0m \u001b[1;32mimport\u001b[0m \u001b[0mKNeighborsClassifier\u001b[0m\u001b[1;33m\u001b[0m\u001b[1;33m\u001b[0m\u001b[0m\n\u001b[1;32m---> 24\u001b[1;33m \u001b[1;32mfrom\u001b[0m \u001b[0mydata_profiling\u001b[0m \u001b[1;32mimport\u001b[0m \u001b[0mProfileReport\u001b[0m\u001b[1;33m\u001b[0m\u001b[1;33m\u001b[0m\u001b[0m\n\u001b[0m",
      "\u001b[1;32m~\\anaconda3\\lib\\site-packages\\ydata_profiling\\__init__.py\u001b[0m in \u001b[0;36m<module>\u001b[1;34m\u001b[0m\n\u001b[0;32m      5\u001b[0m \u001b[1;32mimport\u001b[0m \u001b[0mimportlib\u001b[0m\u001b[1;33m.\u001b[0m\u001b[0mutil\u001b[0m\u001b[1;33m\u001b[0m\u001b[1;33m\u001b[0m\u001b[0m\n\u001b[0;32m      6\u001b[0m \u001b[1;33m\u001b[0m\u001b[0m\n\u001b[1;32m----> 7\u001b[1;33m \u001b[1;32mfrom\u001b[0m \u001b[0mydata_profiling\u001b[0m\u001b[1;33m.\u001b[0m\u001b[0mcompare_reports\u001b[0m \u001b[1;32mimport\u001b[0m \u001b[0mcompare\u001b[0m\u001b[1;33m\u001b[0m\u001b[1;33m\u001b[0m\u001b[0m\n\u001b[0m\u001b[0;32m      8\u001b[0m \u001b[1;32mfrom\u001b[0m \u001b[0mydata_profiling\u001b[0m\u001b[1;33m.\u001b[0m\u001b[0mcontroller\u001b[0m \u001b[1;32mimport\u001b[0m \u001b[0mpandas_decorator\u001b[0m\u001b[1;33m\u001b[0m\u001b[1;33m\u001b[0m\u001b[0m\n\u001b[0;32m      9\u001b[0m \u001b[1;32mfrom\u001b[0m \u001b[0mydata_profiling\u001b[0m\u001b[1;33m.\u001b[0m\u001b[0mprofile_report\u001b[0m \u001b[1;32mimport\u001b[0m \u001b[0mProfileReport\u001b[0m\u001b[1;33m\u001b[0m\u001b[1;33m\u001b[0m\u001b[0m\n",
      "\u001b[1;32m~\\anaconda3\\lib\\site-packages\\ydata_profiling\\compare_reports.py\u001b[0m in \u001b[0;36m<module>\u001b[1;34m\u001b[0m\n\u001b[0;32m      7\u001b[0m \u001b[1;32mfrom\u001b[0m \u001b[0mydata_profiling\u001b[0m\u001b[1;33m.\u001b[0m\u001b[0mconfig\u001b[0m \u001b[1;32mimport\u001b[0m \u001b[0mCorrelation\u001b[0m\u001b[1;33m,\u001b[0m \u001b[0mSettings\u001b[0m\u001b[1;33m\u001b[0m\u001b[1;33m\u001b[0m\u001b[0m\n\u001b[0;32m      8\u001b[0m \u001b[1;32mfrom\u001b[0m \u001b[0mydata_profiling\u001b[0m\u001b[1;33m.\u001b[0m\u001b[0mmodel\u001b[0m\u001b[1;33m.\u001b[0m\u001b[0malerts\u001b[0m \u001b[1;32mimport\u001b[0m \u001b[0mAlert\u001b[0m\u001b[1;33m\u001b[0m\u001b[1;33m\u001b[0m\u001b[0m\n\u001b[1;32m----> 9\u001b[1;33m \u001b[1;32mfrom\u001b[0m \u001b[0mydata_profiling\u001b[0m\u001b[1;33m.\u001b[0m\u001b[0mprofile_report\u001b[0m \u001b[1;32mimport\u001b[0m \u001b[0mProfileReport\u001b[0m\u001b[1;33m\u001b[0m\u001b[1;33m\u001b[0m\u001b[0m\n\u001b[0m\u001b[0;32m     10\u001b[0m \u001b[1;33m\u001b[0m\u001b[0m\n\u001b[0;32m     11\u001b[0m \u001b[1;33m\u001b[0m\u001b[0m\n",
      "\u001b[1;32m~\\anaconda3\\lib\\site-packages\\ydata_profiling\\profile_report.py\u001b[0m in \u001b[0;36m<module>\u001b[1;34m\u001b[0m\n\u001b[0;32m     16\u001b[0m \u001b[1;32mfrom\u001b[0m \u001b[0mtqdm\u001b[0m\u001b[1;33m.\u001b[0m\u001b[0mauto\u001b[0m \u001b[1;32mimport\u001b[0m \u001b[0mtqdm\u001b[0m\u001b[1;33m\u001b[0m\u001b[1;33m\u001b[0m\u001b[0m\n\u001b[0;32m     17\u001b[0m \u001b[1;32mfrom\u001b[0m \u001b[0mtypeguard\u001b[0m \u001b[1;32mimport\u001b[0m \u001b[0mtypechecked\u001b[0m\u001b[1;33m\u001b[0m\u001b[1;33m\u001b[0m\u001b[0m\n\u001b[1;32m---> 18\u001b[1;33m \u001b[1;32mfrom\u001b[0m \u001b[0mvisions\u001b[0m \u001b[1;32mimport\u001b[0m \u001b[0mVisionsTypeset\u001b[0m\u001b[1;33m\u001b[0m\u001b[1;33m\u001b[0m\u001b[0m\n\u001b[0m\u001b[0;32m     19\u001b[0m \u001b[1;33m\u001b[0m\u001b[0m\n\u001b[0;32m     20\u001b[0m \u001b[1;32mfrom\u001b[0m \u001b[0mydata_profiling\u001b[0m\u001b[1;33m.\u001b[0m\u001b[0mconfig\u001b[0m \u001b[1;32mimport\u001b[0m \u001b[0mConfig\u001b[0m\u001b[1;33m,\u001b[0m \u001b[0mSettings\u001b[0m\u001b[1;33m,\u001b[0m \u001b[0mSparkSettings\u001b[0m\u001b[1;33m\u001b[0m\u001b[1;33m\u001b[0m\u001b[0m\n",
      "\u001b[1;32m~\\anaconda3\\lib\\site-packages\\visions\\__init__.py\u001b[0m in \u001b[0;36m<module>\u001b[1;34m\u001b[0m\n\u001b[0;32m      2\u001b[0m \u001b[1;33m\u001b[0m\u001b[0m\n\u001b[0;32m      3\u001b[0m \u001b[1;32mfrom\u001b[0m \u001b[0mvisions\u001b[0m \u001b[1;32mimport\u001b[0m \u001b[0mtypes\u001b[0m\u001b[1;33m,\u001b[0m \u001b[0mtypesets\u001b[0m\u001b[1;33m,\u001b[0m \u001b[0mutils\u001b[0m\u001b[1;33m\u001b[0m\u001b[1;33m\u001b[0m\u001b[0m\n\u001b[1;32m----> 4\u001b[1;33m \u001b[1;32mfrom\u001b[0m \u001b[0mvisions\u001b[0m\u001b[1;33m.\u001b[0m\u001b[0mbackends\u001b[0m \u001b[1;32mimport\u001b[0m \u001b[1;33m*\u001b[0m\u001b[1;33m\u001b[0m\u001b[1;33m\u001b[0m\u001b[0m\n\u001b[0m\u001b[0;32m      5\u001b[0m \u001b[1;32mfrom\u001b[0m \u001b[0mvisions\u001b[0m\u001b[1;33m.\u001b[0m\u001b[0mdeclarative\u001b[0m \u001b[1;32mimport\u001b[0m \u001b[0mcreate_type\u001b[0m\u001b[1;33m\u001b[0m\u001b[1;33m\u001b[0m\u001b[0m\n\u001b[0;32m      6\u001b[0m from visions.functional import (\n",
      "\u001b[1;32m~\\anaconda3\\lib\\site-packages\\visions\\backends\\__init__.py\u001b[0m in \u001b[0;36m<module>\u001b[1;34m\u001b[0m\n\u001b[0;32m      7\u001b[0m     \u001b[1;32mimport\u001b[0m \u001b[0mpandas\u001b[0m \u001b[1;32mas\u001b[0m \u001b[0mpd\u001b[0m\u001b[1;33m\u001b[0m\u001b[1;33m\u001b[0m\u001b[0m\n\u001b[0;32m      8\u001b[0m \u001b[1;33m\u001b[0m\u001b[0m\n\u001b[1;32m----> 9\u001b[1;33m     \u001b[1;32mimport\u001b[0m \u001b[0mvisions\u001b[0m\u001b[1;33m.\u001b[0m\u001b[0mbackends\u001b[0m\u001b[1;33m.\u001b[0m\u001b[0mpandas\u001b[0m\u001b[1;33m\u001b[0m\u001b[1;33m\u001b[0m\u001b[0m\n\u001b[0m\u001b[0;32m     10\u001b[0m     \u001b[1;32mfrom\u001b[0m \u001b[0mvisions\u001b[0m\u001b[1;33m.\u001b[0m\u001b[0mbackends\u001b[0m\u001b[1;33m.\u001b[0m\u001b[0mpandas\u001b[0m\u001b[1;33m.\u001b[0m\u001b[0mtest_utils\u001b[0m \u001b[1;32mimport\u001b[0m \u001b[0mpandas_version\u001b[0m\u001b[1;33m\u001b[0m\u001b[1;33m\u001b[0m\u001b[0m\n\u001b[0;32m     11\u001b[0m \u001b[1;33m\u001b[0m\u001b[0m\n",
      "\u001b[1;32m~\\anaconda3\\lib\\site-packages\\visions\\backends\\pandas\\__init__.py\u001b[0m in \u001b[0;36m<module>\u001b[1;34m\u001b[0m\n\u001b[0;32m      1\u001b[0m \u001b[1;32mimport\u001b[0m \u001b[0mvisions\u001b[0m\u001b[1;33m.\u001b[0m\u001b[0mbackends\u001b[0m\u001b[1;33m.\u001b[0m\u001b[0mpandas\u001b[0m\u001b[1;33m.\u001b[0m\u001b[0mtraversal\u001b[0m\u001b[1;33m\u001b[0m\u001b[1;33m\u001b[0m\u001b[0m\n\u001b[1;32m----> 2\u001b[1;33m \u001b[1;32mimport\u001b[0m \u001b[0mvisions\u001b[0m\u001b[1;33m.\u001b[0m\u001b[0mbackends\u001b[0m\u001b[1;33m.\u001b[0m\u001b[0mpandas\u001b[0m\u001b[1;33m.\u001b[0m\u001b[0mtypes\u001b[0m\u001b[1;33m\u001b[0m\u001b[1;33m\u001b[0m\u001b[0m\n\u001b[0m",
      "\u001b[1;32m~\\anaconda3\\lib\\site-packages\\visions\\backends\\pandas\\types\\__init__.py\u001b[0m in \u001b[0;36m<module>\u001b[1;34m\u001b[0m\n\u001b[0;32m      1\u001b[0m \u001b[1;32mimport\u001b[0m \u001b[0mvisions\u001b[0m\u001b[1;33m.\u001b[0m\u001b[0mbackends\u001b[0m\u001b[1;33m.\u001b[0m\u001b[0mpandas\u001b[0m\u001b[1;33m.\u001b[0m\u001b[0mtypes\u001b[0m\u001b[1;33m.\u001b[0m\u001b[0mboolean\u001b[0m\u001b[1;33m\u001b[0m\u001b[1;33m\u001b[0m\u001b[0m\n\u001b[0;32m      2\u001b[0m \u001b[1;32mimport\u001b[0m \u001b[0mvisions\u001b[0m\u001b[1;33m.\u001b[0m\u001b[0mbackends\u001b[0m\u001b[1;33m.\u001b[0m\u001b[0mpandas\u001b[0m\u001b[1;33m.\u001b[0m\u001b[0mtypes\u001b[0m\u001b[1;33m.\u001b[0m\u001b[0mcategorical\u001b[0m\u001b[1;33m\u001b[0m\u001b[1;33m\u001b[0m\u001b[0m\n\u001b[1;32m----> 3\u001b[1;33m \u001b[1;32mimport\u001b[0m \u001b[0mvisions\u001b[0m\u001b[1;33m.\u001b[0m\u001b[0mbackends\u001b[0m\u001b[1;33m.\u001b[0m\u001b[0mpandas\u001b[0m\u001b[1;33m.\u001b[0m\u001b[0mtypes\u001b[0m\u001b[1;33m.\u001b[0m\u001b[0mcomplex\u001b[0m\u001b[1;33m\u001b[0m\u001b[1;33m\u001b[0m\u001b[0m\n\u001b[0m\u001b[0;32m      4\u001b[0m \u001b[1;32mimport\u001b[0m \u001b[0mvisions\u001b[0m\u001b[1;33m.\u001b[0m\u001b[0mbackends\u001b[0m\u001b[1;33m.\u001b[0m\u001b[0mpandas\u001b[0m\u001b[1;33m.\u001b[0m\u001b[0mtypes\u001b[0m\u001b[1;33m.\u001b[0m\u001b[0mcount\u001b[0m\u001b[1;33m\u001b[0m\u001b[1;33m\u001b[0m\u001b[0m\n\u001b[0;32m      5\u001b[0m \u001b[1;32mimport\u001b[0m \u001b[0mvisions\u001b[0m\u001b[1;33m.\u001b[0m\u001b[0mbackends\u001b[0m\u001b[1;33m.\u001b[0m\u001b[0mpandas\u001b[0m\u001b[1;33m.\u001b[0m\u001b[0mtypes\u001b[0m\u001b[1;33m.\u001b[0m\u001b[0mdate\u001b[0m\u001b[1;33m\u001b[0m\u001b[1;33m\u001b[0m\u001b[0m\n",
      "\u001b[1;32m~\\anaconda3\\lib\\site-packages\\visions\\backends\\pandas\\types\\complex.py\u001b[0m in \u001b[0;36m<module>\u001b[1;34m\u001b[0m\n\u001b[0;32m      5\u001b[0m \u001b[1;32mfrom\u001b[0m \u001b[0mvisions\u001b[0m\u001b[1;33m.\u001b[0m\u001b[0mbackends\u001b[0m\u001b[1;33m.\u001b[0m\u001b[0mpandas\u001b[0m\u001b[1;33m.\u001b[0m\u001b[0mseries_utils\u001b[0m \u001b[1;32mimport\u001b[0m \u001b[0mseries_not_empty\u001b[0m\u001b[1;33m,\u001b[0m \u001b[0mseries_not_sparse\u001b[0m\u001b[1;33m\u001b[0m\u001b[1;33m\u001b[0m\u001b[0m\n\u001b[0;32m      6\u001b[0m \u001b[1;32mfrom\u001b[0m \u001b[0mvisions\u001b[0m\u001b[1;33m.\u001b[0m\u001b[0mbackends\u001b[0m\u001b[1;33m.\u001b[0m\u001b[0mpandas\u001b[0m\u001b[1;33m.\u001b[0m\u001b[0mtypes\u001b[0m\u001b[1;33m.\u001b[0m\u001b[0mfloat\u001b[0m \u001b[1;32mimport\u001b[0m \u001b[0mstring_is_float\u001b[0m\u001b[1;33m\u001b[0m\u001b[1;33m\u001b[0m\u001b[0m\n\u001b[1;32m----> 7\u001b[1;33m \u001b[1;32mfrom\u001b[0m \u001b[0mvisions\u001b[0m\u001b[1;33m.\u001b[0m\u001b[0mbackends\u001b[0m\u001b[1;33m.\u001b[0m\u001b[0mshared\u001b[0m\u001b[1;33m.\u001b[0m\u001b[0mparallelization_engines\u001b[0m \u001b[1;32mimport\u001b[0m \u001b[0mpandas_apply\u001b[0m\u001b[1;33m\u001b[0m\u001b[1;33m\u001b[0m\u001b[0m\n\u001b[0m\u001b[0;32m      8\u001b[0m \u001b[1;32mfrom\u001b[0m \u001b[0mvisions\u001b[0m\u001b[1;33m.\u001b[0m\u001b[0mtypes\u001b[0m\u001b[1;33m.\u001b[0m\u001b[0mcomplex\u001b[0m \u001b[1;32mimport\u001b[0m \u001b[0mComplex\u001b[0m\u001b[1;33m\u001b[0m\u001b[1;33m\u001b[0m\u001b[0m\n\u001b[0;32m      9\u001b[0m \u001b[1;32mfrom\u001b[0m \u001b[0mvisions\u001b[0m\u001b[1;33m.\u001b[0m\u001b[0mtypes\u001b[0m\u001b[1;33m.\u001b[0m\u001b[0mstring\u001b[0m \u001b[1;32mimport\u001b[0m \u001b[0mString\u001b[0m\u001b[1;33m\u001b[0m\u001b[1;33m\u001b[0m\u001b[0m\n",
      "\u001b[1;32m~\\anaconda3\\lib\\site-packages\\visions\\backends\\shared\\__init__.py\u001b[0m in \u001b[0;36m<module>\u001b[1;34m\u001b[0m\n\u001b[1;32m----> 1\u001b[1;33m \u001b[1;32mfrom\u001b[0m \u001b[1;33m.\u001b[0m \u001b[1;32mimport\u001b[0m \u001b[0mnan_handling\u001b[0m\u001b[1;33m,\u001b[0m \u001b[0mparallelization_engines\u001b[0m\u001b[1;33m,\u001b[0m \u001b[0mutilities\u001b[0m\u001b[1;33m\u001b[0m\u001b[1;33m\u001b[0m\u001b[0m\n\u001b[0m",
      "\u001b[1;32m~\\anaconda3\\lib\\site-packages\\visions\\backends\\shared\\nan_handling.py\u001b[0m in \u001b[0;36m<module>\u001b[1;34m\u001b[0m\n\u001b[0;32m     10\u001b[0m \u001b[1;33m\u001b[0m\u001b[0m\n\u001b[0;32m     11\u001b[0m \u001b[1;32mif\u001b[0m \u001b[0mhas_numba\u001b[0m\u001b[1;33m:\u001b[0m\u001b[1;33m\u001b[0m\u001b[1;33m\u001b[0m\u001b[0m\n\u001b[1;32m---> 12\u001b[1;33m     \u001b[1;32mimport\u001b[0m \u001b[0mnumba\u001b[0m \u001b[1;32mas\u001b[0m \u001b[0mnb\u001b[0m\u001b[1;33m\u001b[0m\u001b[1;33m\u001b[0m\u001b[0m\n\u001b[0m\u001b[0;32m     13\u001b[0m \u001b[1;33m\u001b[0m\u001b[0m\n\u001b[0;32m     14\u001b[0m \u001b[1;33m\u001b[0m\u001b[0m\n",
      "\u001b[1;32m~\\anaconda3\\lib\\site-packages\\numba\\__init__.py\u001b[0m in \u001b[0;36m<module>\u001b[1;34m\u001b[0m\n\u001b[0;32m     41\u001b[0m \u001b[1;33m\u001b[0m\u001b[0m\n\u001b[0;32m     42\u001b[0m \u001b[1;31m# Re-export vectorize decorators and the thread layer querying function\u001b[0m\u001b[1;33m\u001b[0m\u001b[1;33m\u001b[0m\u001b[0m\n\u001b[1;32m---> 43\u001b[1;33m from numba.np.ufunc import (vectorize, guvectorize, threading_layer,\n\u001b[0m\u001b[0;32m     44\u001b[0m                             get_num_threads, set_num_threads)\n\u001b[0;32m     45\u001b[0m \u001b[1;33m\u001b[0m\u001b[0m\n",
      "\u001b[1;32m~\\anaconda3\\lib\\site-packages\\numba\\np\\ufunc\\__init__.py\u001b[0m in \u001b[0;36m<module>\u001b[1;34m\u001b[0m\n\u001b[0;32m      1\u001b[0m \u001b[1;31m# -*- coding: utf-8 -*-\u001b[0m\u001b[1;33m\u001b[0m\u001b[1;33m\u001b[0m\u001b[0m\n\u001b[0;32m      2\u001b[0m \u001b[1;33m\u001b[0m\u001b[0m\n\u001b[1;32m----> 3\u001b[1;33m \u001b[1;32mfrom\u001b[0m \u001b[0mnumba\u001b[0m\u001b[1;33m.\u001b[0m\u001b[0mnp\u001b[0m\u001b[1;33m.\u001b[0m\u001b[0mufunc\u001b[0m\u001b[1;33m.\u001b[0m\u001b[0mdecorators\u001b[0m \u001b[1;32mimport\u001b[0m \u001b[0mVectorize\u001b[0m\u001b[1;33m,\u001b[0m \u001b[0mGUVectorize\u001b[0m\u001b[1;33m,\u001b[0m \u001b[0mvectorize\u001b[0m\u001b[1;33m,\u001b[0m \u001b[0mguvectorize\u001b[0m\u001b[1;33m\u001b[0m\u001b[1;33m\u001b[0m\u001b[0m\n\u001b[0m\u001b[0;32m      4\u001b[0m \u001b[1;32mfrom\u001b[0m \u001b[0mnumba\u001b[0m\u001b[1;33m.\u001b[0m\u001b[0mnp\u001b[0m\u001b[1;33m.\u001b[0m\u001b[0mufunc\u001b[0m\u001b[1;33m.\u001b[0m\u001b[0m_internal\u001b[0m \u001b[1;32mimport\u001b[0m \u001b[0mPyUFunc_None\u001b[0m\u001b[1;33m,\u001b[0m \u001b[0mPyUFunc_Zero\u001b[0m\u001b[1;33m,\u001b[0m \u001b[0mPyUFunc_One\u001b[0m\u001b[1;33m\u001b[0m\u001b[1;33m\u001b[0m\u001b[0m\n\u001b[0;32m      5\u001b[0m \u001b[1;32mfrom\u001b[0m \u001b[0mnumba\u001b[0m\u001b[1;33m.\u001b[0m\u001b[0mnp\u001b[0m\u001b[1;33m.\u001b[0m\u001b[0mufunc\u001b[0m \u001b[1;32mimport\u001b[0m \u001b[0m_internal\u001b[0m\u001b[1;33m,\u001b[0m \u001b[0marray_exprs\u001b[0m\u001b[1;33m\u001b[0m\u001b[1;33m\u001b[0m\u001b[0m\n",
      "\u001b[1;32m~\\anaconda3\\lib\\site-packages\\numba\\np\\ufunc\\decorators.py\u001b[0m in \u001b[0;36m<module>\u001b[1;34m\u001b[0m\n\u001b[0;32m      1\u001b[0m \u001b[1;32mimport\u001b[0m \u001b[0minspect\u001b[0m\u001b[1;33m\u001b[0m\u001b[1;33m\u001b[0m\u001b[0m\n\u001b[0;32m      2\u001b[0m \u001b[1;33m\u001b[0m\u001b[0m\n\u001b[1;32m----> 3\u001b[1;33m \u001b[1;32mfrom\u001b[0m \u001b[0mnumba\u001b[0m\u001b[1;33m.\u001b[0m\u001b[0mnp\u001b[0m\u001b[1;33m.\u001b[0m\u001b[0mufunc\u001b[0m \u001b[1;32mimport\u001b[0m \u001b[0m_internal\u001b[0m\u001b[1;33m\u001b[0m\u001b[1;33m\u001b[0m\u001b[0m\n\u001b[0m\u001b[0;32m      4\u001b[0m \u001b[1;32mfrom\u001b[0m \u001b[0mnumba\u001b[0m\u001b[1;33m.\u001b[0m\u001b[0mnp\u001b[0m\u001b[1;33m.\u001b[0m\u001b[0mufunc\u001b[0m\u001b[1;33m.\u001b[0m\u001b[0mparallel\u001b[0m \u001b[1;32mimport\u001b[0m \u001b[0mParallelUFuncBuilder\u001b[0m\u001b[1;33m,\u001b[0m \u001b[0mParallelGUFuncBuilder\u001b[0m\u001b[1;33m\u001b[0m\u001b[1;33m\u001b[0m\u001b[0m\n\u001b[0;32m      5\u001b[0m \u001b[1;33m\u001b[0m\u001b[0m\n",
      "\u001b[1;31mSystemError\u001b[0m: initialization of _internal failed without raising an exception"
     ]
    }
   ],
   "source": [
    "import pandas as pd\n",
    "import seaborn as sns\n",
    "import matplotlib.pyplot as plt\n",
    "import numpy as np\n",
    "from sklearn.preprocessing import StandardScaler\n",
    "from sklearn.feature_selection import SelectKBest, f_classif\n",
    "from sklearn.model_selection import train_test_split\n",
    "from sklearn.linear_model import LogisticRegression\n",
    "from sklearn.tree import DecisionTreeClassifier\n",
    "from sklearn.metrics import confusion_matrix, classification_report\n",
    "from sklearn.metrics import accuracy_score\n",
    "from sklearn import preprocessing\n",
    "import warnings\n",
    "warnings.filterwarnings('ignore')\n",
    "import scipy.stats as stat\n",
    "import pylab \n",
    "from sklearn.preprocessing import PowerTransformer\n",
    "from sklearn.linear_model import LinearRegression\n",
    "from sklearn import metrics\n",
    "from sklearn.metrics import mean_absolute_error, mean_squared_error, r2_score\n",
    "from sklearn.metrics import accuracy_score, confusion_matrix\n",
    "from sklearn.metrics import mean_absolute_error, mean_squared_error, r2_score\n",
    "from sklearn.neighbors import KNeighborsClassifier\n",
    "from ydata_profiling import ProfileReport"
   ]
  },
  {
   "cell_type": "code",
   "execution_count": null,
   "id": "3fe9edf0",
   "metadata": {},
   "outputs": [],
   "source": [
    "Air_data = pd.read_csv(\"city_day.csv\")\n",
    "Air_data.head(10)"
   ]
  },
  {
   "cell_type": "code",
   "execution_count": null,
   "id": "cc0b46be",
   "metadata": {},
   "outputs": [],
   "source": [
    "Air_data.tail(5)"
   ]
  },
  {
   "cell_type": "code",
   "execution_count": null,
   "id": "3b2eb0a3",
   "metadata": {},
   "outputs": [],
   "source": [
    "Air_data.shape"
   ]
  },
  {
   "cell_type": "code",
   "execution_count": null,
   "id": "686ba10c",
   "metadata": {},
   "outputs": [],
   "source": [
    "Air_data.columns"
   ]
  },
  {
   "cell_type": "code",
   "execution_count": null,
   "id": "c8347272",
   "metadata": {},
   "outputs": [],
   "source": [
    "Air_data['City'].unique()"
   ]
  },
  {
   "cell_type": "code",
   "execution_count": null,
   "id": "ff66be94",
   "metadata": {},
   "outputs": [],
   "source": [
    "Air_data['AQI_Bucket'].unique()"
   ]
  },
  {
   "cell_type": "code",
   "execution_count": null,
   "id": "8639e3ce",
   "metadata": {},
   "outputs": [],
   "source": [
    "Air_data['AQI'].max()"
   ]
  },
  {
   "cell_type": "markdown",
   "id": "4afbf2c6",
   "metadata": {},
   "source": [
    "# EDA"
   ]
  },
  {
   "cell_type": "code",
   "execution_count": null,
   "id": "7cf0a0ed",
   "metadata": {},
   "outputs": [],
   "source": [
    "Air_data.info()"
   ]
  },
  {
   "cell_type": "code",
   "execution_count": null,
   "id": "676047e1",
   "metadata": {},
   "outputs": [],
   "source": [
    "Air_data.describe()"
   ]
  },
  {
   "cell_type": "code",
   "execution_count": null,
   "id": "77aaa6f7",
   "metadata": {},
   "outputs": [],
   "source": [
    "Air_data.dtypes"
   ]
  },
  {
   "cell_type": "code",
   "execution_count": null,
   "id": "db28664c",
   "metadata": {},
   "outputs": [],
   "source": [
    "Air_data.isnull().sum()"
   ]
  },
  {
   "cell_type": "code",
   "execution_count": null,
   "id": "dcea134e",
   "metadata": {},
   "outputs": [],
   "source": [
    "sns.heatmap(Air_data.isnull(),yticklabels=False,cbar=False,cmap='viridis')"
   ]
  },
  {
   "cell_type": "code",
   "execution_count": null,
   "id": "1c074461",
   "metadata": {},
   "outputs": [],
   "source": [
    "Air_data[[i for i in Air_data.columns if i not in [\"AQI_Bucket\",\"AQI\"]]].hist(bins=30, figsize=(15, 10))\n",
    "plt.show()"
   ]
  },
  {
   "cell_type": "code",
   "execution_count": null,
   "id": "494ac3e7",
   "metadata": {},
   "outputs": [],
   "source": [
    "Air_data['Date'].date = pd.to_datetime(Air_data['Date'])\n",
    "\n",
    "\n",
    "Air_data[['Year','Month','Day']] = Air_data['Date'].date.apply(lambda x: pd.Series(x.strftime(\"%Y,%m,%d\").split(\",\")))\n",
    "\n",
    "Air_data"
   ]
  },
  {
   "cell_type": "code",
   "execution_count": null,
   "id": "eeb25ab8",
   "metadata": {},
   "outputs": [],
   "source": [
    "Air_data.drop(['Date'], axis=1 ,inplace=True)\n",
    "\n",
    "Air_data"
   ]
  },
  {
   "cell_type": "code",
   "execution_count": null,
   "id": "8fd0be70",
   "metadata": {},
   "outputs": [],
   "source": [
    "# Arranging city wise PM 2.5 levels mean values \n",
    "\n",
    "a =Air_data.groupby(\"City\")[\"PM2.5\"].mean().round()\n",
    "a\n"
   ]
  },
  {
   "cell_type": "code",
   "execution_count": null,
   "id": "09a30f85",
   "metadata": {},
   "outputs": [],
   "source": [
    "a.plot(figsize=(7,7),kind=\"barh\",title=\"PM 2.5 count in different cities\", xlabel=\"Cities\", ylabel=\"PM2.5 VALUES\",grid=True)"
   ]
  },
  {
   "cell_type": "code",
   "execution_count": null,
   "id": "37a13abd",
   "metadata": {},
   "outputs": [],
   "source": [
    "# Arranging city wise PM 10 levels mean values \n",
    "\n",
    "b = Air_data.groupby(\"City\")[\"PM10\"].mean().sort_values(ascending=False)\n",
    "b"
   ]
  },
  {
   "cell_type": "code",
   "execution_count": null,
   "id": "770f4978",
   "metadata": {},
   "outputs": [],
   "source": [
    "b.head(5)"
   ]
  },
  {
   "cell_type": "code",
   "execution_count": null,
   "id": "5cf6813d",
   "metadata": {},
   "outputs": [],
   "source": [
    "b.head(5).plot(figsize=(7,7),kind=\"barh\",title=\"PM 10 Levels in top 5 cities\", xlabel=\"City\", ylabel=\"City\",grid=True)"
   ]
  },
  {
   "cell_type": "markdown",
   "id": "e5007ac6",
   "metadata": {},
   "source": [
    "# City having high AQI  value \n"
   ]
  },
  {
   "cell_type": "code",
   "execution_count": null,
   "id": "b23d3e85",
   "metadata": {},
   "outputs": [],
   "source": [
    "#obtaining the data of city wise mean AQI index and arranging it in descending order.\n",
    "\n",
    "c =Air_data.groupby(\"City\").mean()[\"AQI\"].round().sort_values(ascending=False)\n",
    "\n",
    "# Plotting the horizontal plot of  top 10 cities against high AQI value, \n",
    "\n",
    "c.plot(figsize=(7,7),kind=\"barh\",title=\"AQI (Greater the index bad is the quality of AIR)\", xlabel=\"City\", ylabel=\"AQI\",grid=True)\n",
    "print(c)"
   ]
  },
  {
   "cell_type": "code",
   "execution_count": null,
   "id": "3ec3c6cb",
   "metadata": {},
   "outputs": [],
   "source": [
    "# Extracting the values of AQI mean values in order of Months.\n",
    "\n",
    "d =Air_data.groupby(['Month'])[\"AQI\"].mean().round()\n",
    "d\n",
    "# Plotting the horizontal plot of Months against AQI values.\n",
    "\n",
    "d.plot(figsize=(15,7),kind=\"barh\",title=\"AQI index Month wise\", xlabel=\"Month\", ylabel=\"AQI\",grid=True)"
   ]
  },
  {
   "cell_type": "code",
   "execution_count": null,
   "id": "57bc18de",
   "metadata": {},
   "outputs": [],
   "source": [
    "# Extracting the values of AQI mean values in order of Years.\n",
    "\n",
    "e =Air_data.groupby(['Year'])[\"AQI\"].mean().round()\n",
    "e\n",
    "# Plotting the horizontal plot of Months against AQI values.\n",
    "\n",
    "e.plot(figsize=(15,7),kind=\"barh\",title=\"AQI index Month wise\", xlabel=\"Year\", ylabel=\"AQI\",grid=True)"
   ]
  },
  {
   "cell_type": "code",
   "execution_count": null,
   "id": "fef231ae",
   "metadata": {},
   "outputs": [],
   "source": [
    "sns.boxplot(x=Air_data['PM2.5'])"
   ]
  },
  {
   "cell_type": "code",
   "execution_count": null,
   "id": "8c1dd3a2",
   "metadata": {},
   "outputs": [],
   "source": [
    "sns.boxplot(x=Air_data['PM10'])"
   ]
  },
  {
   "cell_type": "markdown",
   "id": "c6fb4c84",
   "metadata": {},
   "source": [
    "# PREPROCESSING OF DATA :"
   ]
  },
  {
   "cell_type": "code",
   "execution_count": null,
   "id": "c3063210",
   "metadata": {},
   "outputs": [],
   "source": [
    "Air_data = Air_data.dropna()\n",
    "Air_data"
   ]
  },
  {
   "cell_type": "code",
   "execution_count": null,
   "id": "452585a0",
   "metadata": {},
   "outputs": [],
   "source": [
    "Air_data.shape"
   ]
  },
  {
   "cell_type": "code",
   "execution_count": null,
   "id": "26fcec8c",
   "metadata": {},
   "outputs": [],
   "source": [
    "sns.heatmap(Air_data.isnull(),yticklabels=False,cbar=False,cmap='viridis')"
   ]
  },
  {
   "cell_type": "code",
   "execution_count": null,
   "id": "0bf254f6",
   "metadata": {},
   "outputs": [],
   "source": [
    "Air_data['AQI_Bucket'].unique()"
   ]
  },
  {
   "cell_type": "code",
   "execution_count": null,
   "id": "d639f5ef",
   "metadata": {},
   "outputs": [],
   "source": [
    "Air_data['AQI_Bucket'] = Air_data['AQI_Bucket'].map({'Good': 0, 'Moderate': 1,'Satisfactory': 2,'Poor': 3,'Very Poor': 4,'Severe': 5})\n",
    "Air_data"
   ]
  },
  {
   "cell_type": "code",
   "execution_count": null,
   "id": "004621b1",
   "metadata": {},
   "outputs": [],
   "source": [
    "one_hot_encoder = pd.get_dummies(Air_data['City'], sparse=True)\n",
    "one_hot_encoder\n"
   ]
  },
  {
   "cell_type": "code",
   "execution_count": null,
   "id": "05d1e6f9",
   "metadata": {},
   "outputs": [],
   "source": [
    "df_z_scaled = Air_data.copy()\n",
    "\n",
    "\n",
    "column = ['PM2.5', 'PM10', 'NO', 'NO2', 'NOx', 'NH3', 'CO', 'SO2',\n",
    "       'O3', 'Benzene', 'Toluene', 'Xylene']\n",
    "df_z_scaled[column] = (df_z_scaled[column] - df_z_scaled[column].mean()) / df_z_scaled[column].std()\n",
    "\n",
    "\n",
    "display(df_z_scaled)\n"
   ]
  },
  {
   "cell_type": "code",
   "execution_count": null,
   "id": "860868a7",
   "metadata": {},
   "outputs": [],
   "source": [
    "from sklearn.preprocessing import StandardScaler\n",
    "\n",
    "dataset_norm_test = Air_data[[i for i in Air_data.columns if i not in [\"City\",\"Date\",\"Year\",\"Month\",\"Day\"]]].copy()\n",
    "scaler = StandardScaler()\n",
    "dataset_norm_test = pd.DataFrame(scaler.fit_transform(dataset_norm_test),columns=dataset_norm_test.columns)\n",
    "dataset_norm_test.hist(bins=30, figsize=(15, 10))\n",
    "plt.show()"
   ]
  },
  {
   "cell_type": "code",
   "execution_count": null,
   "id": "39541553",
   "metadata": {},
   "outputs": [],
   "source": [
    "cols = list(dataset_norm_test.columns.values)\n",
    "cols"
   ]
  },
  {
   "cell_type": "code",
   "execution_count": null,
   "id": "494105ed",
   "metadata": {},
   "outputs": [],
   "source": [
    "import scipy.stats as stats\n",
    "\n",
    "dataset_yeo_test = dataset_norm_test[[i for i in dataset_norm_test.columns if i not in [\"AQI_Bucket\",\"AQI\"]]].copy()\n",
    "\n",
    "\n",
    "for i in dataset_yeo_test.columns:\n",
    "    yeo_t,param = stats.yeojohnson(dataset_yeo_test[i],)\n",
    "    plt.hist(yeo_t,bins=25)\n",
    "    plt.xlabel(i)\n",
    "    plt.show()"
   ]
  },
  {
   "cell_type": "code",
   "execution_count": null,
   "id": "85eb0bb0",
   "metadata": {},
   "outputs": [],
   "source": [
    "pt = PowerTransformer(method='yeo-johnson')\n",
    "data = pt.fit_transform(dataset_yeo_test)\n",
    "Air_dataset = pd.DataFrame(data)\n",
    "Air_dataset\n"
   ]
  },
  {
   "cell_type": "code",
   "execution_count": null,
   "id": "67ec0b87",
   "metadata": {},
   "outputs": [],
   "source": [
    "Air_dataset.set_axis(['PM2.5','PM10','NO','NO2','NOx','NH3','CO','SO2','O3','Benzene','Toluene','Xylene'], axis='columns', inplace=True)\n",
    "Air_dataset"
   ]
  },
  {
   "cell_type": "code",
   "execution_count": null,
   "id": "6a269226",
   "metadata": {},
   "outputs": [],
   "source": [
    "Air_dataset.hist(bins=30, figsize=(15, 10))"
   ]
  },
  {
   "cell_type": "code",
   "execution_count": null,
   "id": "88a6f80f",
   "metadata": {},
   "outputs": [],
   "source": [
    "def plot_data(yeo_t,feature):\n",
    "    plt.figure(figsize=(10,6))\n",
    "    plt.subplot(1,2,1)\n",
    "    Air_dataset[feature].hist()\n",
    "    plt.subplot(1,2,2)\n",
    "    stat.probplot(Air_dataset[feature],dist='norm',plot=pylab)\n",
    "    plt.show()\n",
    "plot_data(Air_dataset,'PM2.5')\n",
    "    "
   ]
  },
  {
   "cell_type": "code",
   "execution_count": null,
   "id": "78e4b259",
   "metadata": {},
   "outputs": [],
   "source": [
    "def plot_data(yeo_t,feature):\n",
    "    plt.figure(figsize=(10,6))\n",
    "    plt.subplot(1,2,1)\n",
    "    Air_dataset[feature].hist()\n",
    "    plt.subplot(1,2,2)\n",
    "    stat.probplot(Air_dataset[feature],dist='norm',plot=pylab)\n",
    "    plt.show()\n",
    "plot_data(Air_dataset,'PM10')\n",
    "    "
   ]
  },
  {
   "cell_type": "code",
   "execution_count": null,
   "id": "b4195305",
   "metadata": {},
   "outputs": [],
   "source": [
    "import seaborn as sns\n",
    "\n",
    "dataset_corr = Air_dataset[[i for i in Air_dataset.columns if i!=\"AQI_Bucket\"]]\n",
    "\n",
    "plt.figure(figsize=(10,8))\n",
    "cor = dataset_corr.corr()\n",
    "sns.heatmap(cor, annot=True, cmap=plt.cm.Reds)\n",
    "plt.show()"
   ]
  },
  {
   "cell_type": "markdown",
   "id": "c6f05234",
   "metadata": {},
   "source": [
    "# MODEL IMPLEMENTATION"
   ]
  },
  {
   "cell_type": "code",
   "execution_count": null,
   "id": "c5ab0f48",
   "metadata": {},
   "outputs": [],
   "source": [
    "x=Air_dataset[['PM2.5','PM10','NO','NO2','NOx','CO','NH3','O3','SO2','Benzene','Toluene','Xylene']]\n",
    "y=Air_data['AQI']"
   ]
  },
  {
   "cell_type": "code",
   "execution_count": null,
   "id": "1511fb2d",
   "metadata": {},
   "outputs": [],
   "source": [
    "x_train, x_test, y_train, y_test= train_test_split(x,y,test_size=0.25,random_state=4)"
   ]
  },
  {
   "cell_type": "markdown",
   "id": "0b4ca575",
   "metadata": {},
   "source": [
    "# <h2><center>Linear Regression Model</center></h2>"
   ]
  },
  {
   "cell_type": "code",
   "execution_count": null,
   "id": "6655d2e1",
   "metadata": {},
   "outputs": [],
   "source": [
    "model = LinearRegression()\n",
    "model.fit(x_train, y_train)"
   ]
  },
  {
   "cell_type": "code",
   "execution_count": null,
   "id": "f30365c2",
   "metadata": {},
   "outputs": [],
   "source": [
    "y_pred=model.predict(x_test)"
   ]
  },
  {
   "cell_type": "code",
   "execution_count": null,
   "id": "eeb6f3b2",
   "metadata": {},
   "outputs": [],
   "source": [
    "def metrics(y_true, y_pred):\n",
    "    print(f'RMSE:', mean_squared_error(y_true, y_pred) ** 0.5)\n",
    "    print(f'R2 Score:', r2_score(y_true, y_pred))"
   ]
  },
  {
   "cell_type": "code",
   "execution_count": null,
   "id": "ddba2da9",
   "metadata": {},
   "outputs": [],
   "source": [
    "def accuracy(y_true,train_pred):\n",
    "    error = abs(y_true -train_pred)\n",
    "    mape = 100 * np.mean(error/y_true)\n",
    "    accuracy = 100 - mape\n",
    "    return accuracy"
   ]
  },
  {
   "cell_type": "code",
   "execution_count": null,
   "id": "239bf7f8",
   "metadata": {},
   "outputs": [],
   "source": [
    "metrics(y_test,y_pred)"
   ]
  },
  {
   "cell_type": "code",
   "execution_count": null,
   "id": "153e4662",
   "metadata": {},
   "outputs": [],
   "source": [
    "accuracy(y_test,y_pred)"
   ]
  },
  {
   "cell_type": "markdown",
   "id": "6d693956",
   "metadata": {},
   "source": [
    "# <h2><center>RandomForest Model</center></h2>"
   ]
  },
  {
   "cell_type": "code",
   "execution_count": null,
   "id": "f245e1d4",
   "metadata": {},
   "outputs": [],
   "source": [
    "from sklearn.ensemble import RandomForestRegressor"
   ]
  },
  {
   "cell_type": "code",
   "execution_count": null,
   "id": "a2447233",
   "metadata": {},
   "outputs": [],
   "source": [
    "RF=RandomForestRegressor(n_estimators = 100, min_samples_split=3)\n",
    "RF.fit(x_train, y_train)\n"
   ]
  },
  {
   "cell_type": "code",
   "execution_count": null,
   "id": "73af573c",
   "metadata": {},
   "outputs": [],
   "source": [
    "y_pred=model.predict(x_test)"
   ]
  },
  {
   "cell_type": "code",
   "execution_count": null,
   "id": "b714bccb",
   "metadata": {},
   "outputs": [],
   "source": [
    "metrics(y_test,y_pred)"
   ]
  },
  {
   "cell_type": "code",
   "execution_count": null,
   "id": "7d268691",
   "metadata": {},
   "outputs": [],
   "source": [
    "accuracy(y_test,y_pred)"
   ]
  },
  {
   "cell_type": "markdown",
   "id": "79359f5d",
   "metadata": {},
   "source": [
    "# <h2><center>ExtraTreesRegressor</center></h2>"
   ]
  },
  {
   "cell_type": "code",
   "execution_count": null,
   "id": "5a367da3",
   "metadata": {},
   "outputs": [],
   "source": [
    "from sklearn.ensemble import ExtraTreesRegressor"
   ]
  },
  {
   "cell_type": "code",
   "execution_count": null,
   "id": "d279289a",
   "metadata": {},
   "outputs": [],
   "source": [
    "selection = ExtraTreesRegressor()\n",
    "selection.fit(x_train,y_train)"
   ]
  },
  {
   "cell_type": "code",
   "execution_count": null,
   "id": "e516ce6c",
   "metadata": {},
   "outputs": [],
   "source": [
    "y_pred = selection.predict(x_test)"
   ]
  },
  {
   "cell_type": "code",
   "execution_count": null,
   "id": "5c1cc4c9",
   "metadata": {},
   "outputs": [],
   "source": [
    "metrics(y_test,y_pred)"
   ]
  },
  {
   "cell_type": "code",
   "execution_count": null,
   "id": "5b0bcf01",
   "metadata": {},
   "outputs": [],
   "source": [
    "accuracy(y_test,y_pred)"
   ]
  },
  {
   "cell_type": "markdown",
   "id": "1d6174dc",
   "metadata": {},
   "source": [
    "#  <h2><center>Output</center></h2>"
   ]
  },
  {
   "cell_type": "code",
   "execution_count": null,
   "id": "c55e9fdc",
   "metadata": {},
   "outputs": [],
   "source": [
    "# Taking Input from the User\n",
    "\n",
    "a=float(input(\"PM2.5 : \"))\n",
    "b=float(input(\"PM10 : \"))\n",
    "c=float(input(\"NO : \"))\n",
    "d=float(input('NO2 : '))\n",
    "e=float(input('NOx : '))\n",
    "f=float(input('CO : '))\n",
    "g=float(input('NH3 : '))\n",
    "h=float(input('O3 : '))\n",
    "i=float(input('SO2 : '))\n",
    "j=float(input('Benzene : '))\n",
    "k=float(input('Toluene : '))\n",
    "l=float(input('Xylene : '))\n",
    "\n",
    "print(\"=\"*50)\n",
    "\n",
    "\n",
    "val = RF.predict([[a,b,c,d,e,f,g,h,i,j,k,l]])\n",
    "\n",
    "if val <= 50:\n",
    "    print(f'The AQI Value of {val} is Good')\n",
    "elif val in range(51,100):\n",
    "    print(f'The AQI Value of {val} is Unhealthy')\n",
    "elif val in range(101,150):\n",
    "    print(f'The AQI Value of {val} is Satisfactory')\n",
    "elif val in range(151,200):\n",
    "    print(f'The AQI Value of {val} is Severe')\n",
    "elif val in range(201,300):\n",
    "    print(f'The AQI Value of {val} is Hazardous')\n",
    "else:\n",
    "    print(f'The AQI Value of {val} is Dangerous')"
   ]
  }
 ],
 "metadata": {
  "kernelspec": {
   "display_name": "Python 3 (ipykernel)",
   "language": "python",
   "name": "python3"
  },
  "language_info": {
   "codemirror_mode": {
    "name": "ipython",
    "version": 3
   },
   "file_extension": ".py",
   "mimetype": "text/x-python",
   "name": "python",
   "nbconvert_exporter": "python",
   "pygments_lexer": "ipython3",
   "version": "3.9.7"
  }
 },
 "nbformat": 4,
 "nbformat_minor": 5
}
